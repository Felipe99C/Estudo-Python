{
 "cells": [
  {
   "cell_type": "markdown",
   "metadata": {},
   "source": [
    "Exercício 1: Soma dos elementos\n",
    "Crie uma lista com 5 números inteiros e calcule a soma de todos os elementos da lista."
   ]
  },
  {
   "cell_type": "code",
   "execution_count": 1,
   "metadata": {},
   "outputs": [
    {
     "name": "stdout",
     "output_type": "stream",
     "text": [
      "150\n"
     ]
    }
   ],
   "source": [
    "numeros = [10,20,30,40,50]\n",
    "print (sum(numeros));\n"
   ]
  },
  {
   "cell_type": "markdown",
   "metadata": {},
   "source": [
    "Exercício 2: Maior e menor valor\n",
    "Crie uma lista com 7 números e encontre o maior e o menor valor da lista."
   ]
  },
  {
   "cell_type": "code",
   "execution_count": 2,
   "metadata": {},
   "outputs": [
    {
     "name": "stdout",
     "output_type": "stream",
     "text": [
      "78\n",
      "9\n"
     ]
    }
   ],
   "source": [
    "numeros = [34,12,56,78,23,9,45]\n",
    "print(max(numeros));\n",
    "print(min(numeros));"
   ]
  },
  {
   "cell_type": "markdown",
   "metadata": {},
   "source": [
    "Exercício 3: Inverter uma lista\n",
    "Crie uma lista com 6 elementos e inverta a ordem dos elementos."
   ]
  },
  {
   "cell_type": "code",
   "execution_count": 7,
   "metadata": {},
   "outputs": [
    {
     "name": "stdout",
     "output_type": "stream",
     "text": [
      "[6, 5, 4, 3, 2, 1]\n"
     ]
    }
   ],
   "source": [
    "lista = [1,2,3,4,5,6]\n",
    "lista.reverse()\n",
    "print(lista)"
   ]
  },
  {
   "cell_type": "markdown",
   "metadata": {},
   "source": [
    "Exercício 4: Contar ocorrências\n",
    "Crie uma lista com vários elementos (incluindo repetições) e conte quantas vezes um determinado elemento aparece na lista."
   ]
  },
  {
   "cell_type": "code",
   "execution_count": 11,
   "metadata": {},
   "outputs": [
    {
     "name": "stdout",
     "output_type": "stream",
     "text": [
      "A banana aparece 2 vezes na lista.\n"
     ]
    }
   ],
   "source": [
    "lista = [\"maçã\", \"banana\", \"maçã\", \"laranja\", \"banana\", \"maçã\"]\n",
    "\n",
    "fruta = input(\"Digite a fruta que deseja consultar: \").lower()\n",
    "\n",
    "qtd = lista.count(fruta)\n",
    "\n",
    "print(f\"A {fruta} aparece {qtd} vezes na lista.\")\n",
    "\n",
    "\n"
   ]
  },
  {
   "cell_type": "markdown",
   "metadata": {},
   "source": [
    "Exercício 5: Unir duas listas\n",
    "Crie duas listas e una-as em uma única lista, sem repetir elementos que já existem."
   ]
  },
  {
   "cell_type": "code",
   "execution_count": 13,
   "metadata": {},
   "outputs": [
    {
     "name": "stdout",
     "output_type": "stream",
     "text": [
      "[1, 2, 3, 4, 5, 6]\n"
     ]
    }
   ],
   "source": [
    "lista1 = [1, 2, 3, 4]\n",
    "lista2 = [3, 4, 5, 6]\n",
    "\n",
    "# Convertendo as listas em conjuntos e unindo-os\n",
    "conjunto_unido = set(lista1) | set(lista2)\n",
    "\n",
    "# Convertendo o conjunto de volta para lista\n",
    "lista_unida = list(conjunto_unido)\n",
    "\n",
    "# Exibindo o resultado\n",
    "print(lista_unida)"
   ]
  },
  {
   "cell_type": "code",
   "execution_count": null,
   "metadata": {},
   "outputs": [],
   "source": [
    "# Listas originais\n",
    "lista1 = [1, 2, 3, 4]\n",
    "lista2 = [3, 4, 5, 6]\n",
    "\n",
    "lista_unida = []\n",
    "\n",
    "def adicionar_sem_repetir(lista_origem, lista_destino):\n",
    "    for elemento in lista_origem:\n",
    "        if elemento not in lista_destino:\n",
    "            lista_destino.append(elemento)\n",
    "\n",
    "# Adicionando elementos da primeira lista\n",
    "adicionar_sem_repetir(lista1, lista_unida)\n",
    "\n",
    "# Adicionando elementos da segunda lista\n",
    "adicionar_sem_repetir(lista2, lista_unida)\n",
    "\n",
    "# Exibindo o resultado\n",
    "print(lista_unida)"
   ]
  }
 ],
 "metadata": {
  "kernelspec": {
   "display_name": "Python 3",
   "language": "python",
   "name": "python3"
  },
  "language_info": {
   "codemirror_mode": {
    "name": "ipython",
    "version": 3
   },
   "file_extension": ".py",
   "mimetype": "text/x-python",
   "name": "python",
   "nbconvert_exporter": "python",
   "pygments_lexer": "ipython3",
   "version": "3.13.0"
  }
 },
 "nbformat": 4,
 "nbformat_minor": 2
}
